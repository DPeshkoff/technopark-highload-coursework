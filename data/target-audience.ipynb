{
  "cells": [
    {
      "cell_type": "markdown",
      "metadata": {},
      "source": [
        "### Приложение А. Оценка роста ЦА социальной сети"
      ]
    },
    {
      "cell_type": "code",
      "execution_count": 3,
      "metadata": {
        "id": "cQWiQL8CYJuQ"
      },
      "outputs": [],
      "source": [
        "import numpy as np\n",
        "import pandas as pd\n",
        "import matplotlib.pyplot as plt"
      ]
    },
    {
      "cell_type": "markdown",
      "metadata": {
        "id": "1hIwYBXOhG5e"
      },
      "source": [
        "В качестве максимального процента пользователей было взято 95,5 %. \n",
        "\n",
        "Это число основано на статистических данных - немногие страны с населением более 2 миллионов человек имеют больший процент.\n",
        "К примеру,\n",
        "\n",
        "\n",
        "*   Норвегия \t96,5%\n",
        "*   Республика Корея \t95,9%\n",
        "*   Великобритания \t94,9%"
      ]
    },
    {
      "cell_type": "code",
      "execution_count": 4,
      "metadata": {
        "id": "uVqM44eacV-b"
      },
      "outputs": [],
      "source": [
        "max_internet_users_percent = 95.5"
      ]
    },
    {
      "cell_type": "markdown",
      "metadata": {
        "id": "qDYLtUl3iQct"
      },
      "source": [
        "Была взята статистика по странам, наиболее близким к текущему рынку ВК. Это страны СНГ и ближнего зарубежья. Данные взяты с Википедии."
      ]
    },
    {
      "cell_type": "code",
      "execution_count": 5,
      "metadata": {
        "colab": {
          "base_uri": "https://localhost:8080/",
          "height": 426
        },
        "id": "S7K4rABJYrLP",
        "outputId": "b5d7268f-e660-49e6-d477-08e0ff971c9e"
      },
      "outputs": [
        {
          "data": {
            "text/html": [
              "<div>\n",
              "<style scoped>\n",
              "    .dataframe tbody tr th:only-of-type {\n",
              "        vertical-align: middle;\n",
              "    }\n",
              "\n",
              "    .dataframe tbody tr th {\n",
              "        vertical-align: top;\n",
              "    }\n",
              "\n",
              "    .dataframe thead th {\n",
              "        text-align: right;\n",
              "    }\n",
              "</style>\n",
              "<table border=\"1\" class=\"dataframe\">\n",
              "  <thead>\n",
              "    <tr style=\"text-align: right;\">\n",
              "      <th></th>\n",
              "      <th>Country</th>\n",
              "      <th>ActiveUsers</th>\n",
              "      <th>PercentOfPopulation</th>\n",
              "    </tr>\n",
              "  </thead>\n",
              "  <tbody>\n",
              "    <tr>\n",
              "      <th>0</th>\n",
              "      <td>Russia</td>\n",
              "      <td>114920477</td>\n",
              "      <td>80.9</td>\n",
              "    </tr>\n",
              "    <tr>\n",
              "      <th>1</th>\n",
              "      <td>Ukraine</td>\n",
              "      <td>31100000</td>\n",
              "      <td>71.8</td>\n",
              "    </tr>\n",
              "    <tr>\n",
              "      <th>2</th>\n",
              "      <td>Uzbekistan</td>\n",
              "      <td>15705402</td>\n",
              "      <td>52.3</td>\n",
              "    </tr>\n",
              "    <tr>\n",
              "      <th>3</th>\n",
              "      <td>Kazakhstan</td>\n",
              "      <td>14789448</td>\n",
              "      <td>78.9</td>\n",
              "    </tr>\n",
              "    <tr>\n",
              "      <th>4</th>\n",
              "      <td>Azerbaijan</td>\n",
              "      <td>8017120</td>\n",
              "      <td>79.8</td>\n",
              "    </tr>\n",
              "    <tr>\n",
              "      <th>5</th>\n",
              "      <td>Belarus</td>\n",
              "      <td>7539145</td>\n",
              "      <td>79.1</td>\n",
              "    </tr>\n",
              "    <tr>\n",
              "      <th>6</th>\n",
              "      <td>Georgia</td>\n",
              "      <td>3151218</td>\n",
              "      <td>64.0</td>\n",
              "    </tr>\n",
              "    <tr>\n",
              "      <th>7</th>\n",
              "      <td>Moldavia</td>\n",
              "      <td>2616792</td>\n",
              "      <td>76.1</td>\n",
              "    </tr>\n",
              "    <tr>\n",
              "      <th>8</th>\n",
              "      <td>Armenia</td>\n",
              "      <td>1966942</td>\n",
              "      <td>64.7</td>\n",
              "    </tr>\n",
              "    <tr>\n",
              "      <th>9</th>\n",
              "      <td>Tajikistan</td>\n",
              "      <td>1889632</td>\n",
              "      <td>22.0</td>\n",
              "    </tr>\n",
              "    <tr>\n",
              "      <th>10</th>\n",
              "      <td>Turkmenia</td>\n",
              "      <td>1149840</td>\n",
              "      <td>21.3</td>\n",
              "    </tr>\n",
              "    <tr>\n",
              "      <th>11</th>\n",
              "      <td>Mongolia</td>\n",
              "      <td>735823</td>\n",
              "      <td>23.7</td>\n",
              "    </tr>\n",
              "  </tbody>\n",
              "</table>\n",
              "</div>"
            ],
            "text/plain": [
              "       Country  ActiveUsers  PercentOfPopulation\n",
              "0       Russia    114920477                 80.9\n",
              "1      Ukraine     31100000                 71.8\n",
              "2   Uzbekistan     15705402                 52.3\n",
              "3   Kazakhstan     14789448                 78.9\n",
              "4   Azerbaijan      8017120                 79.8\n",
              "5      Belarus      7539145                 79.1\n",
              "6      Georgia      3151218                 64.0\n",
              "7     Moldavia      2616792                 76.1\n",
              "8      Armenia      1966942                 64.7\n",
              "9   Tajikistan      1889632                 22.0\n",
              "10   Turkmenia      1149840                 21.3\n",
              "11    Mongolia       735823                 23.7"
            ]
          },
          "execution_count": 5,
          "metadata": {},
          "output_type": "execute_result"
        }
      ],
      "source": [
        "internet_usage = pd.read_csv('./internet-usage.csv')\n",
        "internet_usage.head(12)"
      ]
    },
    {
      "cell_type": "code",
      "execution_count": 6,
      "metadata": {
        "colab": {
          "base_uri": "https://localhost:8080/"
        },
        "id": "ixscBmsji_AR",
        "outputId": "95fcf88d-0592-49d4-e2da-487c1ae3b39a"
      },
      "outputs": [
        {
          "name": "stdout",
          "output_type": "stream",
          "text": [
            "203581839\n"
          ]
        }
      ],
      "source": [
        "print(internet_usage['ActiveUsers'].sum())"
      ]
    },
    {
      "cell_type": "markdown",
      "metadata": {
        "id": "yTkfUS5HiDUG"
      },
      "source": [
        "Расчитаем проценты пользователей:"
      ]
    },
    {
      "cell_type": "code",
      "execution_count": 7,
      "metadata": {
        "colab": {
          "base_uri": "https://localhost:8080/",
          "height": 264
        },
        "id": "FwRpYJ-YaLkY",
        "outputId": "3635703c-3762-4251-837e-20a8275af34b"
      },
      "outputs": [
        {
          "data": {
            "image/png": "[encoded data removed]",
            "text/plain": [
              "<Figure size 432x288 with 1 Axes>"
            ]
          },
          "metadata": {},
          "output_type": "display_data"
        }
      ],
      "source": [
        "internet_usage.plot(kind='pie',autopct='%1.0f%%',x='Country',y='ActiveUsers',title='Percents of total users')\n",
        "plt.show()"
      ]
    },
    {
      "cell_type": "markdown",
      "metadata": {
        "id": "Re7ueCnhiT9P"
      },
      "source": [
        "Подсчитаем максимальное количество пользователей в странах:"
      ]
    },
    {
      "cell_type": "code",
      "execution_count": 8,
      "metadata": {
        "colab": {
          "base_uri": "https://localhost:8080/",
          "height": 426
        },
        "id": "H3wlg-Qsfb8t",
        "outputId": "f092a101-386c-4912-d68f-1ad4681989aa"
      },
      "outputs": [
        {
          "data": {
            "text/html": [
              "<div>\n",
              "<style scoped>\n",
              "    .dataframe tbody tr th:only-of-type {\n",
              "        vertical-align: middle;\n",
              "    }\n",
              "\n",
              "    .dataframe tbody tr th {\n",
              "        vertical-align: top;\n",
              "    }\n",
              "\n",
              "    .dataframe thead th {\n",
              "        text-align: right;\n",
              "    }\n",
              "</style>\n",
              "<table border=\"1\" class=\"dataframe\">\n",
              "  <thead>\n",
              "    <tr style=\"text-align: right;\">\n",
              "      <th></th>\n",
              "      <th>Country</th>\n",
              "      <th>ActiveUsers</th>\n",
              "      <th>PercentOfPopulation</th>\n",
              "      <th>MaxActiveUsers</th>\n",
              "    </tr>\n",
              "  </thead>\n",
              "  <tbody>\n",
              "    <tr>\n",
              "      <th>0</th>\n",
              "      <td>Russia</td>\n",
              "      <td>114920477</td>\n",
              "      <td>80.9</td>\n",
              "      <td>135660143</td>\n",
              "    </tr>\n",
              "    <tr>\n",
              "      <th>1</th>\n",
              "      <td>Ukraine</td>\n",
              "      <td>31100000</td>\n",
              "      <td>71.8</td>\n",
              "      <td>41365599</td>\n",
              "    </tr>\n",
              "    <tr>\n",
              "      <th>2</th>\n",
              "      <td>Uzbekistan</td>\n",
              "      <td>15705402</td>\n",
              "      <td>52.3</td>\n",
              "      <td>28678124</td>\n",
              "    </tr>\n",
              "    <tr>\n",
              "      <th>3</th>\n",
              "      <td>Kazakhstan</td>\n",
              "      <td>14789448</td>\n",
              "      <td>78.9</td>\n",
              "      <td>17901043</td>\n",
              "    </tr>\n",
              "    <tr>\n",
              "      <th>4</th>\n",
              "      <td>Azerbaijan</td>\n",
              "      <td>8017120</td>\n",
              "      <td>79.8</td>\n",
              "      <td>9594423</td>\n",
              "    </tr>\n",
              "    <tr>\n",
              "      <th>5</th>\n",
              "      <td>Belarus</td>\n",
              "      <td>7539145</td>\n",
              "      <td>79.1</td>\n",
              "      <td>9102255</td>\n",
              "    </tr>\n",
              "    <tr>\n",
              "      <th>6</th>\n",
              "      <td>Georgia</td>\n",
              "      <td>3151218</td>\n",
              "      <td>64.0</td>\n",
              "      <td>4702208</td>\n",
              "    </tr>\n",
              "    <tr>\n",
              "      <th>7</th>\n",
              "      <td>Moldavia</td>\n",
              "      <td>2616792</td>\n",
              "      <td>76.1</td>\n",
              "      <td>3283885</td>\n",
              "    </tr>\n",
              "    <tr>\n",
              "      <th>8</th>\n",
              "      <td>Armenia</td>\n",
              "      <td>1966942</td>\n",
              "      <td>64.7</td>\n",
              "      <td>2903292</td>\n",
              "    </tr>\n",
              "    <tr>\n",
              "      <th>9</th>\n",
              "      <td>Tajikistan</td>\n",
              "      <td>1889632</td>\n",
              "      <td>22.0</td>\n",
              "      <td>8202721</td>\n",
              "    </tr>\n",
              "    <tr>\n",
              "      <th>10</th>\n",
              "      <td>Turkmenia</td>\n",
              "      <td>1149840</td>\n",
              "      <td>21.3</td>\n",
              "      <td>5155386</td>\n",
              "    </tr>\n",
              "    <tr>\n",
              "      <th>11</th>\n",
              "      <td>Mongolia</td>\n",
              "      <td>735823</td>\n",
              "      <td>23.7</td>\n",
              "      <td>2965025</td>\n",
              "    </tr>\n",
              "  </tbody>\n",
              "</table>\n",
              "</div>"
            ],
            "text/plain": [
              "       Country  ActiveUsers  PercentOfPopulation  MaxActiveUsers\n",
              "0       Russia    114920477                 80.9       135660143\n",
              "1      Ukraine     31100000                 71.8        41365599\n",
              "2   Uzbekistan     15705402                 52.3        28678124\n",
              "3   Kazakhstan     14789448                 78.9        17901043\n",
              "4   Azerbaijan      8017120                 79.8         9594423\n",
              "5      Belarus      7539145                 79.1         9102255\n",
              "6      Georgia      3151218                 64.0         4702208\n",
              "7     Moldavia      2616792                 76.1         3283885\n",
              "8      Armenia      1966942                 64.7         2903292\n",
              "9   Tajikistan      1889632                 22.0         8202721\n",
              "10   Turkmenia      1149840                 21.3         5155386\n",
              "11    Mongolia       735823                 23.7         2965025"
            ]
          },
          "execution_count": 8,
          "metadata": {},
          "output_type": "execute_result"
        }
      ],
      "source": [
        "internet_usage['MaxActiveUsers'] = internet_usage.apply(lambda x: round(x['ActiveUsers'] / x['PercentOfPopulation'] * max_internet_users_percent),axis=1)\n",
        "internet_usage.head(12)"
      ]
    },
    {
      "cell_type": "markdown",
      "metadata": {
        "id": "tWxyaHG5iYxT"
      },
      "source": [
        "Таким образом, максимальное число пользователей ВКонтакте в данном регионе:"
      ]
    },
    {
      "cell_type": "code",
      "execution_count": 9,
      "metadata": {
        "colab": {
          "base_uri": "https://localhost:8080/"
        },
        "id": "uQ972sDUcUII",
        "outputId": "84bafdd9-ed13-4951-b568-2f1611f1bf44"
      },
      "outputs": [
        {
          "name": "stdout",
          "output_type": "stream",
          "text": [
            "269514104\n"
          ]
        }
      ],
      "source": [
        "print(internet_usage['MaxActiveUsers'].sum())"
      ]
    },
    {
      "cell_type": "markdown",
      "metadata": {
        "id": "qUl_CS9MidZu"
      },
      "source": []
    }
  ],
  "metadata": {
    "colab": {
      "collapsed_sections": [],
      "name": "Highload.ipynb",
      "provenance": []
    },
    "interpreter": {
      "hash": "72ad67e804717af7c8edc5b60b816a695040579a6c1b1f11c1627112f3b858b4"
    },
    "kernelspec": {
      "display_name": "Python 3.9.1 64-bit",
      "name": "python3"
    },
    "language_info": {
      "codemirror_mode": {
        "name": "ipython",
        "version": 3
      },
      "file_extension": ".py",
      "mimetype": "text/x-python",
      "name": "python",
      "nbconvert_exporter": "python",
      "pygments_lexer": "ipython3",
      "version": "3.9.1"
    }
  },
  "nbformat": 4,
  "nbformat_minor": 0
}
