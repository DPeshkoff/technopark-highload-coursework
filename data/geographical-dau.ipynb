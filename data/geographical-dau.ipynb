{
 "cells": [
  {
   "cell_type": "markdown",
   "metadata": {},
   "source": [
    "### Приложение В. Оценка распределения DAU по MediaScope"
   ]
  },
  {
   "cell_type": "code",
   "execution_count": 16,
   "metadata": {},
   "outputs": [],
   "source": [
    "import numpy as np\n",
    "import pandas as pd\n",
    "import matplotlib.pyplot as plt"
   ]
  },
  {
   "cell_type": "code",
   "execution_count": 17,
   "metadata": {},
   "outputs": [
    {
     "data": {
      "text/html": [
       "<div>\n",
       "<style scoped>\n",
       "    .dataframe tbody tr th:only-of-type {\n",
       "        vertical-align: middle;\n",
       "    }\n",
       "\n",
       "    .dataframe tbody tr th {\n",
       "        vertical-align: top;\n",
       "    }\n",
       "\n",
       "    .dataframe thead th {\n",
       "        text-align: right;\n",
       "    }\n",
       "</style>\n",
       "<table border=\"1\" class=\"dataframe\">\n",
       "  <thead>\n",
       "    <tr style=\"text-align: right;\">\n",
       "      <th></th>\n",
       "      <th>Country</th>\n",
       "      <th>MAU</th>\n",
       "      <th>DAU</th>\n",
       "    </tr>\n",
       "  </thead>\n",
       "  <tbody>\n",
       "    <tr>\n",
       "      <th>0</th>\n",
       "      <td>Russia</td>\n",
       "      <td>109.1</td>\n",
       "      <td>70.73</td>\n",
       "    </tr>\n",
       "    <tr>\n",
       "      <th>1</th>\n",
       "      <td>Ukraine</td>\n",
       "      <td>7.9</td>\n",
       "      <td>5.12</td>\n",
       "    </tr>\n",
       "    <tr>\n",
       "      <th>2</th>\n",
       "      <td>Belarus</td>\n",
       "      <td>7.0</td>\n",
       "      <td>4.54</td>\n",
       "    </tr>\n",
       "    <tr>\n",
       "      <th>3</th>\n",
       "      <td>Kazakhstan</td>\n",
       "      <td>7.0</td>\n",
       "      <td>4.54</td>\n",
       "    </tr>\n",
       "    <tr>\n",
       "      <th>4</th>\n",
       "      <td>Turkey</td>\n",
       "      <td>4.9</td>\n",
       "      <td>3.18</td>\n",
       "    </tr>\n",
       "    <tr>\n",
       "      <th>5</th>\n",
       "      <td>USA</td>\n",
       "      <td>1.1</td>\n",
       "      <td>0.71</td>\n",
       "    </tr>\n",
       "    <tr>\n",
       "      <th>6</th>\n",
       "      <td>Germany</td>\n",
       "      <td>0.7</td>\n",
       "      <td>0.45</td>\n",
       "    </tr>\n",
       "    <tr>\n",
       "      <th>7</th>\n",
       "      <td>France</td>\n",
       "      <td>0.4</td>\n",
       "      <td>0.26</td>\n",
       "    </tr>\n",
       "    <tr>\n",
       "      <th>8</th>\n",
       "      <td>UK</td>\n",
       "      <td>0.3</td>\n",
       "      <td>0.19</td>\n",
       "    </tr>\n",
       "    <tr>\n",
       "      <th>9</th>\n",
       "      <td>Other</td>\n",
       "      <td>9.9</td>\n",
       "      <td>6.42</td>\n",
       "    </tr>\n",
       "  </tbody>\n",
       "</table>\n",
       "</div>"
      ],
      "text/plain": [
       "      Country    MAU    DAU\n",
       "0      Russia  109.1  70.73\n",
       "1     Ukraine    7.9   5.12\n",
       "2     Belarus    7.0   4.54\n",
       "3  Kazakhstan    7.0   4.54\n",
       "4      Turkey    4.9   3.18\n",
       "5         USA    1.1   0.71\n",
       "6     Germany    0.7   0.45\n",
       "7      France    0.4   0.26\n",
       "8          UK    0.3   0.19\n",
       "9       Other    9.9   6.42"
      ]
     },
     "execution_count": 17,
     "metadata": {},
     "output_type": "execute_result"
    }
   ],
   "source": [
    "semrush = pd.read_csv('./semrush_data.csv')\n",
    "semrush.head(12)"
   ]
  },
  {
   "cell_type": "markdown",
   "metadata": {},
   "source": [
    "По данным платформы Semrush, мировая месячная аудитория сайта составила более **148,3** миллионов пользователей"
   ]
  },
  {
   "cell_type": "markdown",
   "metadata": {},
   "source": [
    "По данным MediaScope, в январе 2022 года месячная аудитория в России составила **79,1** миллионов человек"
   ]
  },
  {
   "cell_type": "markdown",
   "metadata": {},
   "source": [
    "Рассчитаем коэффициент преобразования:"
   ]
  },
  {
   "cell_type": "code",
   "execution_count": 18,
   "metadata": {},
   "outputs": [
    {
     "name": "stdout",
     "output_type": "stream",
     "text": [
      "0.7250229147571036\n"
     ]
    }
   ],
   "source": [
    "coefficient = 79.1 / 109.1 \n",
    "print(coefficient)"
   ]
  },
  {
   "cell_type": "markdown",
   "metadata": {},
   "source": [
    "Расчитаем MAU и DAU:"
   ]
  },
  {
   "cell_type": "code",
   "execution_count": 19,
   "metadata": {},
   "outputs": [
    {
     "data": {
      "text/html": [
       "<div>\n",
       "<style scoped>\n",
       "    .dataframe tbody tr th:only-of-type {\n",
       "        vertical-align: middle;\n",
       "    }\n",
       "\n",
       "    .dataframe tbody tr th {\n",
       "        vertical-align: top;\n",
       "    }\n",
       "\n",
       "    .dataframe thead th {\n",
       "        text-align: right;\n",
       "    }\n",
       "</style>\n",
       "<table border=\"1\" class=\"dataframe\">\n",
       "  <thead>\n",
       "    <tr style=\"text-align: right;\">\n",
       "      <th></th>\n",
       "      <th>Country</th>\n",
       "      <th>MAU</th>\n",
       "      <th>DAU</th>\n",
       "      <th>approximate_MAU</th>\n",
       "      <th>approximate_DAU</th>\n",
       "    </tr>\n",
       "  </thead>\n",
       "  <tbody>\n",
       "    <tr>\n",
       "      <th>0</th>\n",
       "      <td>Russia</td>\n",
       "      <td>109.1</td>\n",
       "      <td>70.73</td>\n",
       "      <td>79.100000</td>\n",
       "      <td>51.280871</td>\n",
       "    </tr>\n",
       "    <tr>\n",
       "      <th>1</th>\n",
       "      <td>Ukraine</td>\n",
       "      <td>7.9</td>\n",
       "      <td>5.12</td>\n",
       "      <td>5.727681</td>\n",
       "      <td>3.712117</td>\n",
       "    </tr>\n",
       "    <tr>\n",
       "      <th>2</th>\n",
       "      <td>Belarus</td>\n",
       "      <td>7.0</td>\n",
       "      <td>4.54</td>\n",
       "      <td>5.075160</td>\n",
       "      <td>3.291604</td>\n",
       "    </tr>\n",
       "    <tr>\n",
       "      <th>3</th>\n",
       "      <td>Kazakhstan</td>\n",
       "      <td>7.0</td>\n",
       "      <td>4.54</td>\n",
       "      <td>5.075160</td>\n",
       "      <td>3.291604</td>\n",
       "    </tr>\n",
       "    <tr>\n",
       "      <th>4</th>\n",
       "      <td>Turkey</td>\n",
       "      <td>4.9</td>\n",
       "      <td>3.18</td>\n",
       "      <td>3.552612</td>\n",
       "      <td>2.305573</td>\n",
       "    </tr>\n",
       "    <tr>\n",
       "      <th>5</th>\n",
       "      <td>USA</td>\n",
       "      <td>1.1</td>\n",
       "      <td>0.71</td>\n",
       "      <td>0.797525</td>\n",
       "      <td>0.514766</td>\n",
       "    </tr>\n",
       "    <tr>\n",
       "      <th>6</th>\n",
       "      <td>Germany</td>\n",
       "      <td>0.7</td>\n",
       "      <td>0.45</td>\n",
       "      <td>0.507516</td>\n",
       "      <td>0.326260</td>\n",
       "    </tr>\n",
       "    <tr>\n",
       "      <th>7</th>\n",
       "      <td>France</td>\n",
       "      <td>0.4</td>\n",
       "      <td>0.26</td>\n",
       "      <td>0.290009</td>\n",
       "      <td>0.188506</td>\n",
       "    </tr>\n",
       "    <tr>\n",
       "      <th>8</th>\n",
       "      <td>UK</td>\n",
       "      <td>0.3</td>\n",
       "      <td>0.19</td>\n",
       "      <td>0.217507</td>\n",
       "      <td>0.137754</td>\n",
       "    </tr>\n",
       "    <tr>\n",
       "      <th>9</th>\n",
       "      <td>Other</td>\n",
       "      <td>9.9</td>\n",
       "      <td>6.42</td>\n",
       "      <td>7.177727</td>\n",
       "      <td>4.654647</td>\n",
       "    </tr>\n",
       "  </tbody>\n",
       "</table>\n",
       "</div>"
      ],
      "text/plain": [
       "      Country    MAU    DAU  approximate_MAU  approximate_DAU\n",
       "0      Russia  109.1  70.73        79.100000        51.280871\n",
       "1     Ukraine    7.9   5.12         5.727681         3.712117\n",
       "2     Belarus    7.0   4.54         5.075160         3.291604\n",
       "3  Kazakhstan    7.0   4.54         5.075160         3.291604\n",
       "4      Turkey    4.9   3.18         3.552612         2.305573\n",
       "5         USA    1.1   0.71         0.797525         0.514766\n",
       "6     Germany    0.7   0.45         0.507516         0.326260\n",
       "7      France    0.4   0.26         0.290009         0.188506\n",
       "8          UK    0.3   0.19         0.217507         0.137754\n",
       "9       Other    9.9   6.42         7.177727         4.654647"
      ]
     },
     "execution_count": 19,
     "metadata": {},
     "output_type": "execute_result"
    }
   ],
   "source": [
    "semrush['approximate_MAU'] = semrush.apply(lambda x: (x['MAU'] * coefficient),axis=1)\n",
    "semrush['approximate_DAU'] = semrush.apply(lambda x: (x['DAU'] * coefficient),axis=1)\n",
    "semrush.head(12)"
   ]
  },
  {
   "cell_type": "code",
   "execution_count": 21,
   "metadata": {},
   "outputs": [
    {
     "name": "stdout",
     "output_type": "stream",
     "text": [
      "Оценка DAU: 69.70370302474794 млн человек\n",
      "Оценка MAU: 107.52089825847845 млн человек\n"
     ]
    }
   ],
   "source": [
    "print(\"Оценка DAU: {} млн человек\".format(semrush['approximate_DAU'].sum()))\n",
    "print(\"Оценка MAU: {} млн человек\".format(semrush['approximate_MAU'].sum()))"
   ]
  }
 ],
 "metadata": {
  "interpreter": {
   "hash": "72ad67e804717af7c8edc5b60b816a695040579a6c1b1f11c1627112f3b858b4"
  },
  "kernelspec": {
   "display_name": "Python 3.9.1 64-bit",
   "name": "python3"
  },
  "language_info": {
   "codemirror_mode": {
    "name": "ipython",
    "version": 3
   },
   "file_extension": ".py",
   "mimetype": "text/x-python",
   "name": "python",
   "nbconvert_exporter": "python",
   "pygments_lexer": "ipython3",
   "version": "3.9.1"
  },
  "orig_nbformat": 4
 },
 "nbformat": 4,
 "nbformat_minor": 2
}
